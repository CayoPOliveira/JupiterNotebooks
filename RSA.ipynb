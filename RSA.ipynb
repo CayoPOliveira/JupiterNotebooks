{
  "nbformat": 4,
  "nbformat_minor": 0,
  "metadata": {
    "colab": {
      "provenance": [],
      "toc_visible": true,
      "authorship_tag": "ABX9TyOzo4xeWy62g/6sjz2nHLEA",
      "include_colab_link": true
    },
    "kernelspec": {
      "name": "python3",
      "display_name": "Python 3"
    },
    "language_info": {
      "name": "python"
    }
  },
  "cells": [
    {
      "cell_type": "markdown",
      "metadata": {
        "id": "view-in-github",
        "colab_type": "text"
      },
      "source": [
        "<a href=\"https://colab.research.google.com/github/CayoPOliveira/JupiterNotebooks/blob/main/RSA.ipynb\" target=\"_parent\"><img src=\"https://colab.research.google.com/assets/colab-badge.svg\" alt=\"Open In Colab\"/></a>"
      ]
    },
    {
      "cell_type": "markdown",
      "source": [
        "# INTRODUÇÃO\n",
        "O algoritmo de criptografia mais usado atualmente é o RSA, ele se baseia na utilização de duas chaves, sendo uma privada, a qual somente você tem acesso, e uma pública, a qual todos podem vizualizar sua chave, para criptografar mensagens.\n",
        "\n",
        "O algoritmo consiste em realizar a escolha de dois números primos distintos ***p*** e ***q***, e então multiplicar-los e obter um número inteiro ***n*** que será usado para codificar a mensagem.\n",
        "\n",
        "A escolha dos primos é aleatória porêm os tamanhos desses números são em torno de 100 algarismos cada, o que irá gerar um número ***n*** com cerca de 200 algarismos."
      ],
      "metadata": {
        "id": "vJww6Fxa9EJO"
      }
    },
    {
      "cell_type": "markdown",
      "source": [
        "## Resumo do RSA\n",
        "* Para implementar o *RSA* escolhemos dois primos distintos muito grandes *p* e *q* e calculamos o produto $n = p \\cdot q$;\n",
        "* para codificar uma mensagem usamos *n*;\n",
        "* para decodificar uma mensagem usamos *p* e *q*;\n",
        "* *n* pode ser tornado público;\n",
        "* *p* e *q* precisam ser mantidos em segredo;\n",
        "* quebrar o *RSA* consiste em fatorar *n* para descobrir os valores de *p* e *q*, o que leva muito tempo se *n* for um número grande.\n",
        "\n",
        "A seguir iremos entender todos os conceitos e funcionamento do algoritmo RSA e porque a criptografia é eficiente atualmente."
      ],
      "metadata": {
        "id": "DINH4u1W_nLe"
      }
    },
    {
      "cell_type": "markdown",
      "source": [
        "## Bibliotecas que serão usadas\n",
        "Algumas bibliotecas python terão papel importante nas aplicações então você deve rodar os seguintes códigos antes de continuar."
      ],
      "metadata": {
        "id": "KIlKKRet9NmC"
      }
    },
    {
      "cell_type": "code",
      "source": [
        "# Instalação de bibliotecas\n",
        "!pip install cryptography # Responsável por recursos de algoritmos de criptografia diversos"
      ],
      "metadata": {
        "colab": {
          "base_uri": "https://localhost:8080/"
        },
        "id": "CClNfR7p9dqu",
        "outputId": "9b7704e0-9b81-4fe9-f2ab-74a90d0f2bb8"
      },
      "execution_count": null,
      "outputs": [
        {
          "output_type": "stream",
          "name": "stdout",
          "text": [
            "Looking in indexes: https://pypi.org/simple, https://us-python.pkg.dev/colab-wheels/public/simple/\n",
            "Requirement already satisfied: cryptography in /usr/local/lib/python3.10/dist-packages (40.0.2)\n",
            "Requirement already satisfied: cffi>=1.12 in /usr/local/lib/python3.10/dist-packages (from cryptography) (1.15.1)\n",
            "Requirement already satisfied: pycparser in /usr/local/lib/python3.10/dist-packages (from cffi>=1.12->cryptography) (2.21)\n"
          ]
        }
      ]
    },
    {
      "cell_type": "markdown",
      "source": [
        "# NÚMEROS PRIMOS\n",
        "\n",
        "Um número inteiro $p$ é primo se $p \\neq \\pm1$ e os únicos divisores de $p$ são $\\pm1$ e $\\pm p$. Portanto 2, 3, 5\n",
        "e -7 são primos, mas $45 = 5 · 9$ não é primo. Um número inteiro,\n",
        "diferente de $\\pm1$, que não é primo é chamado de **composto**. Logo 45 é\n",
        "composto.\n",
        "\n",
        "Observe que a definição de primo exclui os números $\\pm1$. Isto é,\n",
        "os números $\\pm1$ não são primos, mas também não são compostos!\n",
        "\n",
        "Primos significa primeiros, enquanto compostos significa secundários, os gregos classificavam os números em primos e secundários (ou compostos), por que os secundários eram formados a partir de números primeiros, isso significa que todo número secundário pode ser decomposto em um produto de números primos, por exemplo $45 = 3\\cdot3\\cdot5$.\n"
      ],
      "metadata": {
        "id": "n2-WvJ9-kbk-"
      }
    },
    {
      "cell_type": "markdown",
      "source": [
        "Seguindo a lógica de números primos e compostos pode-se descobrir se um número é primo apenas testando se ele é divisível por algum dos números primos anteriores a ele.\n",
        "\n",
        "***Veja o código abaixo***"
      ],
      "metadata": {
        "id": "p2zcgCaj5pU3"
      }
    },
    {
      "cell_type": "code",
      "execution_count": null,
      "metadata": {
        "id": "2U-lbSzF8BVT",
        "colab": {
          "base_uri": "https://localhost:8080/"
        },
        "outputId": "1d5fca6b-3c64-42d8-b302-a15e64e56339"
      },
      "outputs": [
        {
          "output_type": "stream",
          "name": "stdout",
          "text": [
            "O número de primos positivos encontrados é 1229\n",
            "Isso corresponde a 12.29% dos números inteiros no intervalo de 1 a 10000\n",
            "[2, 3, 5, 7, 11, 13, 17, 19, 23, 29, 31, 37, 41, 43, 47, 53, 59, 61, 67, 71, 73, 79, 83, 89, 97, 101, 103, 107, 109, 113, 127, 131, 137, 139, 149, 151, 157, 163, 167, 173, 179, 181, 191, 193, 197, 199, 211, 223, 227, 229, 233, 239, 241, 251, 257, 263, 269, 271, 277, 281, 283, 293, 307, 311, 313, 317, 331, 337, 347, 349, 353, 359, 367, 373, 379, 383, 389, 397, 401, 409, 419, 421, 431, 433, 439, 443, 449, 457, 461, 463, 467, 479, 487, 491, 499, 503, 509, 521, 523, 541, 547, 557, 563, 569, 571, 577, 587, 593, 599, 601, 607, 613, 617, 619, 631, 641, 643, 647, 653, 659, 661, 673, 677, 683, 691, 701, 709, 719, 727, 733, 739, 743, 751, 757, 761, 769, 773, 787, 797, 809, 811, 821, 823, 827, 829, 839, 853, 857, 859, 863, 877, 881, 883, 887, 907, 911, 919, 929, 937, 941, 947, 953, 967, 971, 977, 983, 991, 997, 1009, 1013, 1019, 1021, 1031, 1033, 1039, 1049, 1051, 1061, 1063, 1069, 1087, 1091, 1093, 1097, 1103, 1109, 1117, 1123, 1129, 1151, 1153, 1163, 1171, 1181, 1187, 1193, 1201, 1213, 1217, 1223, 1229, 1231, 1237, 1249, 1259, 1277, 1279, 1283, 1289, 1291, 1297, 1301, 1303, 1307, 1319, 1321, 1327, 1361, 1367, 1373, 1381, 1399, 1409, 1423, 1427, 1429, 1433, 1439, 1447, 1451, 1453, 1459, 1471, 1481, 1483, 1487, 1489, 1493, 1499, 1511, 1523, 1531, 1543, 1549, 1553, 1559, 1567, 1571, 1579, 1583, 1597, 1601, 1607, 1609, 1613, 1619, 1621, 1627, 1637, 1657, 1663, 1667, 1669, 1693, 1697, 1699, 1709, 1721, 1723, 1733, 1741, 1747, 1753, 1759, 1777, 1783, 1787, 1789, 1801, 1811, 1823, 1831, 1847, 1861, 1867, 1871, 1873, 1877, 1879, 1889, 1901, 1907, 1913, 1931, 1933, 1949, 1951, 1973, 1979, 1987, 1993, 1997, 1999, 2003, 2011, 2017, 2027, 2029, 2039, 2053, 2063, 2069, 2081, 2083, 2087, 2089, 2099, 2111, 2113, 2129, 2131, 2137, 2141, 2143, 2153, 2161, 2179, 2203, 2207, 2213, 2221, 2237, 2239, 2243, 2251, 2267, 2269, 2273, 2281, 2287, 2293, 2297, 2309, 2311, 2333, 2339, 2341, 2347, 2351, 2357, 2371, 2377, 2381, 2383, 2389, 2393, 2399, 2411, 2417, 2423, 2437, 2441, 2447, 2459, 2467, 2473, 2477, 2503, 2521, 2531, 2539, 2543, 2549, 2551, 2557, 2579, 2591, 2593, 2609, 2617, 2621, 2633, 2647, 2657, 2659, 2663, 2671, 2677, 2683, 2687, 2689, 2693, 2699, 2707, 2711, 2713, 2719, 2729, 2731, 2741, 2749, 2753, 2767, 2777, 2789, 2791, 2797, 2801, 2803, 2819, 2833, 2837, 2843, 2851, 2857, 2861, 2879, 2887, 2897, 2903, 2909, 2917, 2927, 2939, 2953, 2957, 2963, 2969, 2971, 2999, 3001, 3011, 3019, 3023, 3037, 3041, 3049, 3061, 3067, 3079, 3083, 3089, 3109, 3119, 3121, 3137, 3163, 3167, 3169, 3181, 3187, 3191, 3203, 3209, 3217, 3221, 3229, 3251, 3253, 3257, 3259, 3271, 3299, 3301, 3307, 3313, 3319, 3323, 3329, 3331, 3343, 3347, 3359, 3361, 3371, 3373, 3389, 3391, 3407, 3413, 3433, 3449, 3457, 3461, 3463, 3467, 3469, 3491, 3499, 3511, 3517, 3527, 3529, 3533, 3539, 3541, 3547, 3557, 3559, 3571, 3581, 3583, 3593, 3607, 3613, 3617, 3623, 3631, 3637, 3643, 3659, 3671, 3673, 3677, 3691, 3697, 3701, 3709, 3719, 3727, 3733, 3739, 3761, 3767, 3769, 3779, 3793, 3797, 3803, 3821, 3823, 3833, 3847, 3851, 3853, 3863, 3877, 3881, 3889, 3907, 3911, 3917, 3919, 3923, 3929, 3931, 3943, 3947, 3967, 3989, 4001, 4003, 4007, 4013, 4019, 4021, 4027, 4049, 4051, 4057, 4073, 4079, 4091, 4093, 4099, 4111, 4127, 4129, 4133, 4139, 4153, 4157, 4159, 4177, 4201, 4211, 4217, 4219, 4229, 4231, 4241, 4243, 4253, 4259, 4261, 4271, 4273, 4283, 4289, 4297, 4327, 4337, 4339, 4349, 4357, 4363, 4373, 4391, 4397, 4409, 4421, 4423, 4441, 4447, 4451, 4457, 4463, 4481, 4483, 4493, 4507, 4513, 4517, 4519, 4523, 4547, 4549, 4561, 4567, 4583, 4591, 4597, 4603, 4621, 4637, 4639, 4643, 4649, 4651, 4657, 4663, 4673, 4679, 4691, 4703, 4721, 4723, 4729, 4733, 4751, 4759, 4783, 4787, 4789, 4793, 4799, 4801, 4813, 4817, 4831, 4861, 4871, 4877, 4889, 4903, 4909, 4919, 4931, 4933, 4937, 4943, 4951, 4957, 4967, 4969, 4973, 4987, 4993, 4999, 5003, 5009, 5011, 5021, 5023, 5039, 5051, 5059, 5077, 5081, 5087, 5099, 5101, 5107, 5113, 5119, 5147, 5153, 5167, 5171, 5179, 5189, 5197, 5209, 5227, 5231, 5233, 5237, 5261, 5273, 5279, 5281, 5297, 5303, 5309, 5323, 5333, 5347, 5351, 5381, 5387, 5393, 5399, 5407, 5413, 5417, 5419, 5431, 5437, 5441, 5443, 5449, 5471, 5477, 5479, 5483, 5501, 5503, 5507, 5519, 5521, 5527, 5531, 5557, 5563, 5569, 5573, 5581, 5591, 5623, 5639, 5641, 5647, 5651, 5653, 5657, 5659, 5669, 5683, 5689, 5693, 5701, 5711, 5717, 5737, 5741, 5743, 5749, 5779, 5783, 5791, 5801, 5807, 5813, 5821, 5827, 5839, 5843, 5849, 5851, 5857, 5861, 5867, 5869, 5879, 5881, 5897, 5903, 5923, 5927, 5939, 5953, 5981, 5987, 6007, 6011, 6029, 6037, 6043, 6047, 6053, 6067, 6073, 6079, 6089, 6091, 6101, 6113, 6121, 6131, 6133, 6143, 6151, 6163, 6173, 6197, 6199, 6203, 6211, 6217, 6221, 6229, 6247, 6257, 6263, 6269, 6271, 6277, 6287, 6299, 6301, 6311, 6317, 6323, 6329, 6337, 6343, 6353, 6359, 6361, 6367, 6373, 6379, 6389, 6397, 6421, 6427, 6449, 6451, 6469, 6473, 6481, 6491, 6521, 6529, 6547, 6551, 6553, 6563, 6569, 6571, 6577, 6581, 6599, 6607, 6619, 6637, 6653, 6659, 6661, 6673, 6679, 6689, 6691, 6701, 6703, 6709, 6719, 6733, 6737, 6761, 6763, 6779, 6781, 6791, 6793, 6803, 6823, 6827, 6829, 6833, 6841, 6857, 6863, 6869, 6871, 6883, 6899, 6907, 6911, 6917, 6947, 6949, 6959, 6961, 6967, 6971, 6977, 6983, 6991, 6997, 7001, 7013, 7019, 7027, 7039, 7043, 7057, 7069, 7079, 7103, 7109, 7121, 7127, 7129, 7151, 7159, 7177, 7187, 7193, 7207, 7211, 7213, 7219, 7229, 7237, 7243, 7247, 7253, 7283, 7297, 7307, 7309, 7321, 7331, 7333, 7349, 7351, 7369, 7393, 7411, 7417, 7433, 7451, 7457, 7459, 7477, 7481, 7487, 7489, 7499, 7507, 7517, 7523, 7529, 7537, 7541, 7547, 7549, 7559, 7561, 7573, 7577, 7583, 7589, 7591, 7603, 7607, 7621, 7639, 7643, 7649, 7669, 7673, 7681, 7687, 7691, 7699, 7703, 7717, 7723, 7727, 7741, 7753, 7757, 7759, 7789, 7793, 7817, 7823, 7829, 7841, 7853, 7867, 7873, 7877, 7879, 7883, 7901, 7907, 7919, 7927, 7933, 7937, 7949, 7951, 7963, 7993, 8009, 8011, 8017, 8039, 8053, 8059, 8069, 8081, 8087, 8089, 8093, 8101, 8111, 8117, 8123, 8147, 8161, 8167, 8171, 8179, 8191, 8209, 8219, 8221, 8231, 8233, 8237, 8243, 8263, 8269, 8273, 8287, 8291, 8293, 8297, 8311, 8317, 8329, 8353, 8363, 8369, 8377, 8387, 8389, 8419, 8423, 8429, 8431, 8443, 8447, 8461, 8467, 8501, 8513, 8521, 8527, 8537, 8539, 8543, 8563, 8573, 8581, 8597, 8599, 8609, 8623, 8627, 8629, 8641, 8647, 8663, 8669, 8677, 8681, 8689, 8693, 8699, 8707, 8713, 8719, 8731, 8737, 8741, 8747, 8753, 8761, 8779, 8783, 8803, 8807, 8819, 8821, 8831, 8837, 8839, 8849, 8861, 8863, 8867, 8887, 8893, 8923, 8929, 8933, 8941, 8951, 8963, 8969, 8971, 8999, 9001, 9007, 9011, 9013, 9029, 9041, 9043, 9049, 9059, 9067, 9091, 9103, 9109, 9127, 9133, 9137, 9151, 9157, 9161, 9173, 9181, 9187, 9199, 9203, 9209, 9221, 9227, 9239, 9241, 9257, 9277, 9281, 9283, 9293, 9311, 9319, 9323, 9337, 9341, 9343, 9349, 9371, 9377, 9391, 9397, 9403, 9413, 9419, 9421, 9431, 9433, 9437, 9439, 9461, 9463, 9467, 9473, 9479, 9491, 9497, 9511, 9521, 9533, 9539, 9547, 9551, 9587, 9601, 9613, 9619, 9623, 9629, 9631, 9643, 9649, 9661, 9677, 9679, 9689, 9697, 9719, 9721, 9733, 9739, 9743, 9749, 9767, 9769, 9781, 9787, 9791, 9803, 9811, 9817, 9829, 9833, 9839, 9851, 9857, 9859, 9871, 9883, 9887, 9901, 9907, 9923, 9929, 9931, 9941, 9949, 9967, 9973]\n"
          ]
        }
      ],
      "source": [
        "#@title Gerando todos os números primos positivos até N { run: \"auto\", vertical-output: true, display-mode: \"both\" }\n",
        "\n",
        "N = 10000 #@param {type:\"integer\"}\n",
        "\n",
        "def lista_primos(N):\n",
        "  primos = [2] # Lista de números primos <= N, o primero primo inteiro é 2\n",
        "\n",
        "  # Para todo número ímpar de 3 até N (números pares são sempre divisíveis por 2 então não são primos)\n",
        "  for i in range(3,N+1,2):\n",
        "    ehprimo = True\n",
        "    for p in primos:\n",
        "      if i % p == 0: # se i é divisível por um primo p, então o resto da divisão é zero e i não é primo\n",
        "        ehprimo = False\n",
        "        break\n",
        "    if ehprimo: # O número é primo e pode ser colocado na lista\n",
        "      primos.append(i)\n",
        "\n",
        "  return primos\n",
        "\n",
        "primos = lista_primos(N)\n",
        "# Lista de primos positivos até N\n",
        "print(f\"O número de primos positivos encontrados é {len(primos)}\")\n",
        "print(f\"Isso corresponde a {round(100 * len(primos)/N, 4)}% dos números inteiros no intervalo de 1 a {N}\")\n",
        "print(primos)"
      ]
    },
    {
      "cell_type": "markdown",
      "source": [
        "Podemos usar essa lista para decompor um  número inteiro, para simplificar a função trabalha com apenas positivos\n",
        "\n",
        "***Veja o código abaixo***"
      ],
      "metadata": {
        "id": "OIaJU-zB9-wk"
      }
    },
    {
      "cell_type": "code",
      "source": [
        "#@title Decompondo um número positivo N em uma lista de fatores primos { run: \"auto\", vertical-output: true, display-mode: \"both\" }\n",
        "N = 10000 #@param {type:\"integer\"}\n",
        "\n",
        "def decompoem(N):\n",
        "  fatores = []\n",
        "\n",
        "  # Calcula todos os números primos de 1 até N\n",
        "  primos = lista_primos(N)\n",
        "\n",
        "  for p in primos:\n",
        "    while N > 0 and N % p == 0:\n",
        "      fatores.append(p)\n",
        "      N = N//p\n",
        "\n",
        "  return fatores\n",
        "\n",
        "print(f\"Os fatores primos de {N} são {decompoem(N)}\")"
      ],
      "metadata": {
        "colab": {
          "base_uri": "https://localhost:8080/"
        },
        "id": "97xihHFP5qLp",
        "outputId": "b7d4ed7a-9ecf-421b-ba3a-6e4c856f7cd6"
      },
      "execution_count": null,
      "outputs": [
        {
          "output_type": "stream",
          "name": "stdout",
          "text": [
            "Os fatores primos de 10000 são [2, 2, 2, 2, 5, 5, 5, 5]\n"
          ]
        }
      ]
    },
    {
      "cell_type": "markdown",
      "source": [
        "> Uma observação é que a medida que o intervalo cresce os números primos se tornam mais raros, porém eles tendem a estar próximos de outros primos.\n",
        "\n",
        "\n",
        "Com uma pequena mudança no código anterior podemos ver a porcentagem de números primos que existem no intervalo de 0 até cada número primo. É possível perceber que a porcentagem oscila com números primos próximos, principalmente no ínicio, mas ela decresce a medida que o intervalo aumenta\n",
        "\n",
        "***Veja o código abaixo***"
      ],
      "metadata": {
        "id": "mI3HMwY6wwi5"
      }
    },
    {
      "cell_type": "code",
      "source": [
        "# Gera todos os números primos positivos até N (100000)\n",
        "# Ao final exibe os números primos e a porcentágem de números primos no intervalo de 0 até o número\n",
        "\n",
        "N = 100000\n",
        "\n",
        "primos = [ (2, \"50%\") ] # Lista de tuplas com formato\n",
        "                        # (num_primo, %primos no intervalo de 1 até num_primo )\n",
        "for i in range(3,N+1,2):\n",
        "  ehprimo = True\n",
        "  for p in primos:\n",
        "    if i % p[0] == 0:\n",
        "      ehprimo = False\n",
        "      break\n",
        "  if ehprimo: # O número é primo e pode ser colocado na lista\n",
        "    primos.append( (i, f\"{round(100 * len(primos)/i, 2)}%\") ) #adicionamos (num_primo, %primos)\n",
        "\n",
        "# Imprime partes da lista\n",
        "print(f\"{primos[0:100]}\\n...\\n{primos[2000:2100]}\\n...\\n{primos[4000:4100]}\\n...\\n{primos[len(primos)-100:len(primos)]}\")"
      ],
      "metadata": {
        "colab": {
          "base_uri": "https://localhost:8080/"
        },
        "id": "QMy1XXyZw8Is",
        "outputId": "86e9a18e-46f7-487d-810b-992062b9a773"
      },
      "execution_count": null,
      "outputs": [
        {
          "output_type": "stream",
          "name": "stdout",
          "text": [
            "[(2, '50%'), (3, '33.33%'), (5, '40.0%'), (7, '42.86%'), (11, '36.36%'), (13, '38.46%'), (17, '35.29%'), (19, '36.84%'), (23, '34.78%'), (29, '31.03%'), (31, '32.26%'), (37, '29.73%'), (41, '29.27%'), (43, '30.23%'), (47, '29.79%'), (53, '28.3%'), (59, '27.12%'), (61, '27.87%'), (67, '26.87%'), (71, '26.76%'), (73, '27.4%'), (79, '26.58%'), (83, '26.51%'), (89, '25.84%'), (97, '24.74%'), (101, '24.75%'), (103, '25.24%'), (107, '25.23%'), (109, '25.69%'), (113, '25.66%'), (127, '23.62%'), (131, '23.66%'), (137, '23.36%'), (139, '23.74%'), (149, '22.82%'), (151, '23.18%'), (157, '22.93%'), (163, '22.7%'), (167, '22.75%'), (173, '22.54%'), (179, '22.35%'), (181, '22.65%'), (191, '21.99%'), (193, '22.28%'), (197, '22.34%'), (199, '22.61%'), (211, '21.8%'), (223, '21.08%'), (227, '21.15%'), (229, '21.4%'), (233, '21.46%'), (239, '21.34%'), (241, '21.58%'), (251, '21.12%'), (257, '21.01%'), (263, '20.91%'), (269, '20.82%'), (271, '21.03%'), (277, '20.94%'), (281, '21.0%'), (283, '21.2%'), (293, '20.82%'), (307, '20.2%'), (311, '20.26%'), (313, '20.45%'), (317, '20.5%'), (331, '19.94%'), (337, '19.88%'), (347, '19.6%'), (349, '19.77%'), (353, '19.83%'), (359, '19.78%'), (367, '19.62%'), (373, '19.57%'), (379, '19.53%'), (383, '19.58%'), (389, '19.54%'), (397, '19.4%'), (401, '19.45%'), (409, '19.32%'), (419, '19.09%'), (421, '19.24%'), (431, '19.03%'), (433, '19.17%'), (439, '19.13%'), (443, '19.19%'), (449, '19.15%'), (457, '19.04%'), (461, '19.09%'), (463, '19.22%'), (467, '19.27%'), (479, '19.0%'), (487, '18.89%'), (491, '18.94%'), (499, '18.84%'), (503, '18.89%'), (509, '18.86%'), (521, '18.62%'), (523, '18.74%'), (541, '18.3%')]\n",
            "...\n",
            "[(17393, '11.5%'), (17401, '11.5%'), (17417, '11.49%'), (17419, '11.5%'), (17431, '11.5%'), (17443, '11.49%'), (17449, '11.5%'), (17467, '11.49%'), (17471, '11.49%'), (17477, '11.5%'), (17483, '11.5%'), (17489, '11.5%'), (17491, '11.5%'), (17497, '11.5%'), (17509, '11.5%'), (17519, '11.5%'), (17539, '11.49%'), (17551, '11.49%'), (17569, '11.49%'), (17573, '11.49%'), (17579, '11.49%'), (17581, '11.5%'), (17597, '11.49%'), (17599, '11.49%'), (17609, '11.49%'), (17623, '11.49%'), (17627, '11.49%'), (17657, '11.48%'), (17659, '11.48%'), (17669, '11.48%'), (17681, '11.48%'), (17683, '11.49%'), (17707, '11.48%'), (17713, '11.48%'), (17729, '11.47%'), (17737, '11.47%'), (17747, '11.47%'), (17749, '11.48%'), (17761, '11.47%'), (17783, '11.47%'), (17789, '11.47%'), (17791, '11.47%'), (17807, '11.47%'), (17827, '11.46%'), (17837, '11.46%'), (17839, '11.46%'), (17851, '11.46%'), (17863, '11.46%'), (17881, '11.45%'), (17891, '11.45%'), (17903, '11.45%'), (17909, '11.45%'), (17911, '11.46%'), (17921, '11.46%'), (17923, '11.46%'), (17929, '11.46%'), (17939, '11.46%'), (17957, '11.46%'), (17959, '11.46%'), (17971, '11.46%'), (17977, '11.46%'), (17981, '11.46%'), (17987, '11.46%'), (17989, '11.47%'), (18013, '11.46%'), (18041, '11.45%'), (18043, '11.45%'), (18047, '11.45%'), (18049, '11.46%'), (18059, '11.46%'), (18061, '11.46%'), (18077, '11.46%'), (18089, '11.45%'), (18097, '11.45%'), (18119, '11.45%'), (18121, '11.45%'), (18127, '11.45%'), (18131, '11.46%'), (18133, '11.46%'), (18143, '11.46%'), (18149, '11.46%'), (18169, '11.45%'), (18181, '11.45%'), (18191, '11.45%'), (18199, '11.45%'), (18211, '11.45%'), (18217, '11.45%'), (18223, '11.45%'), (18229, '11.45%'), (18233, '11.46%'), (18251, '11.45%'), (18253, '11.46%'), (18257, '11.46%'), (18269, '11.46%'), (18287, '11.45%'), (18289, '11.45%'), (18301, '11.45%'), (18307, '11.45%'), (18311, '11.46%'), (18313, '11.46%')]\n",
            "...\n",
            "[(37831, '10.57%'), (37847, '10.57%'), (37853, '10.57%'), (37861, '10.57%'), (37871, '10.57%'), (37879, '10.57%'), (37889, '10.57%'), (37897, '10.57%'), (37907, '10.57%'), (37951, '10.56%'), (37957, '10.56%'), (37963, '10.57%'), (37967, '10.57%'), (37987, '10.56%'), (37991, '10.57%'), (37993, '10.57%'), (37997, '10.57%'), (38011, '10.57%'), (38039, '10.56%'), (38047, '10.56%'), (38053, '10.56%'), (38069, '10.56%'), (38083, '10.56%'), (38113, '10.56%'), (38119, '10.56%'), (38149, '10.55%'), (38153, '10.55%'), (38167, '10.55%'), (38177, '10.55%'), (38183, '10.55%'), (38189, '10.55%'), (38197, '10.55%'), (38201, '10.55%'), (38219, '10.55%'), (38231, '10.55%'), (38237, '10.55%'), (38239, '10.55%'), (38261, '10.55%'), (38273, '10.55%'), (38281, '10.55%'), (38287, '10.55%'), (38299, '10.55%'), (38303, '10.55%'), (38317, '10.55%'), (38321, '10.55%'), (38327, '10.55%'), (38329, '10.56%'), (38333, '10.56%'), (38351, '10.56%'), (38371, '10.55%'), (38377, '10.55%'), (38393, '10.55%'), (38431, '10.54%'), (38447, '10.54%'), (38449, '10.54%'), (38453, '10.55%'), (38459, '10.55%'), (38461, '10.55%'), (38501, '10.54%'), (38543, '10.53%'), (38557, '10.53%'), (38561, '10.53%'), (38567, '10.53%'), (38569, '10.53%'), (38593, '10.53%'), (38603, '10.53%'), (38609, '10.53%'), (38611, '10.53%'), (38629, '10.53%'), (38639, '10.53%'), (38651, '10.53%'), (38653, '10.53%'), (38669, '10.53%'), (38671, '10.53%'), (38677, '10.53%'), (38693, '10.53%'), (38699, '10.53%'), (38707, '10.53%'), (38711, '10.53%'), (38713, '10.54%'), (38723, '10.54%'), (38729, '10.54%'), (38737, '10.54%'), (38747, '10.54%'), (38749, '10.54%'), (38767, '10.54%'), (38783, '10.54%'), (38791, '10.54%'), (38803, '10.54%'), (38821, '10.53%'), (38833, '10.53%'), (38839, '10.53%'), (38851, '10.53%'), (38861, '10.53%'), (38867, '10.53%'), (38873, '10.53%'), (38891, '10.53%'), (38903, '10.53%'), (38917, '10.53%'), (38921, '10.53%')]\n",
            "...\n",
            "[(98897, '9.6%'), (98899, '9.6%'), (98909, '9.6%'), (98911, '9.6%'), (98927, '9.6%'), (98929, '9.6%'), (98939, '9.6%'), (98947, '9.6%'), (98953, '9.6%'), (98963, '9.6%'), (98981, '9.6%'), (98993, '9.6%'), (98999, '9.6%'), (99013, '9.6%'), (99017, '9.6%'), (99023, '9.6%'), (99041, '9.6%'), (99053, '9.6%'), (99079, '9.6%'), (99083, '9.6%'), (99089, '9.6%'), (99103, '9.6%'), (99109, '9.6%'), (99119, '9.6%'), (99131, '9.6%'), (99133, '9.6%'), (99137, '9.6%'), (99139, '9.6%'), (99149, '9.6%'), (99173, '9.6%'), (99181, '9.6%'), (99191, '9.6%'), (99223, '9.6%'), (99233, '9.6%'), (99241, '9.6%'), (99251, '9.6%'), (99257, '9.6%'), (99259, '9.6%'), (99277, '9.6%'), (99289, '9.6%'), (99317, '9.6%'), (99347, '9.6%'), (99349, '9.6%'), (99367, '9.6%'), (99371, '9.6%'), (99377, '9.6%'), (99391, '9.6%'), (99397, '9.6%'), (99401, '9.6%'), (99409, '9.6%'), (99431, '9.6%'), (99439, '9.6%'), (99469, '9.59%'), (99487, '9.59%'), (99497, '9.59%'), (99523, '9.59%'), (99527, '9.59%'), (99529, '9.59%'), (99551, '9.59%'), (99559, '9.59%'), (99563, '9.59%'), (99571, '9.59%'), (99577, '9.59%'), (99581, '9.6%'), (99607, '9.59%'), (99611, '9.59%'), (99623, '9.59%'), (99643, '9.59%'), (99661, '9.59%'), (99667, '9.59%'), (99679, '9.59%'), (99689, '9.59%'), (99707, '9.59%'), (99709, '9.59%'), (99713, '9.59%'), (99719, '9.59%'), (99721, '9.59%'), (99733, '9.59%'), (99761, '9.59%'), (99767, '9.59%'), (99787, '9.59%'), (99793, '9.59%'), (99809, '9.59%'), (99817, '9.59%'), (99823, '9.59%'), (99829, '9.59%'), (99833, '9.59%'), (99839, '9.59%'), (99859, '9.59%'), (99871, '9.59%'), (99877, '9.59%'), (99881, '9.59%'), (99901, '9.59%'), (99907, '9.59%'), (99923, '9.59%'), (99929, '9.59%'), (99961, '9.59%'), (99971, '9.59%'), (99989, '9.59%'), (99991, '9.59%')]\n"
          ]
        }
      ]
    },
    {
      "cell_type": "markdown",
      "source": [
        "# FATORAÇÃO\n",
        "Todo número pode ser fatorados em pares de divisores, onde $a = b\\cdot c$, isso significa que $\\dfrac{a}{b} = c$, que evidencia uma relação inversamente proporcional entre $b$ e $c$, onde se o valor de $b$ cresce, então o valor de $c$ decresce.\n",
        "\n",
        "Podemos então calcular os divisores de um número e ordenar-los em pares $(b,c)$."
      ],
      "metadata": {
        "id": "BaksEMcZBOhF"
      }
    },
    {
      "cell_type": "code",
      "source": [
        "def acha_fator(N):\n",
        "  div = []\n",
        "  # Para todos os números de 1 até N\n",
        "  i = 1\n",
        "  while i <= N:\n",
        "    # Se N é divisível por i\n",
        "    if N % i == 0:\n",
        "      div.append((i, N//i)) #append (b, c)\n",
        "    i+=1\n",
        "  return div\n",
        "\n",
        "N = 50\n",
        "print(acha_fator(N))"
      ],
      "metadata": {
        "colab": {
          "base_uri": "https://localhost:8080/"
        },
        "id": "1TVuHESUBQe3",
        "outputId": "022c0c20-94fd-4dea-bc6a-a2677147e3e8"
      },
      "execution_count": null,
      "outputs": [
        {
          "output_type": "stream",
          "name": "stdout",
          "text": [
            "[(1, 50), (2, 25), (5, 10), (10, 5), (25, 2), (50, 1)]\n"
          ]
        }
      ]
    },
    {
      "cell_type": "markdown",
      "source": [
        "Observe que após um certo valor, os pares $(b,c)$ começam a reaparecer de forma espelhada, sendo os pares $(c,b$), isso acontece por causa da relação inversamente proporcional dos dois.\n",
        "\n",
        "A raíz quadrada de um número $N$ é o valor que divide essa relação, pois $\\sqrt{N}\\cdot\\sqrt{N}=(\\sqrt{N})^2=N$.\n",
        "\n",
        "Então, sendo $b=\\sqrt{N}$ e $c=\\sqrt{N}$ se aumentarmos o valor de $b$ precisamos diminuir o valor de $c$.\n",
        "\n",
        "A partir disso podemos melhorar a função acha_fator() e testarmos os números menores ou igual a $\\sqrt{N}$"
      ],
      "metadata": {
        "id": "6UfqL9s5Cr-7"
      }
    },
    {
      "cell_type": "code",
      "source": [
        "def acha_fator(N):\n",
        "  div = []\n",
        "  # Para todos os números de 1 até N\n",
        "  i = 1\n",
        "  while i * i <= N:\n",
        "    # Se N é divisível por i\n",
        "    if N % i == 0:\n",
        "      div.append((i, N//i)) #append (b, c)\n",
        "    i+=1\n",
        "  return div\n",
        "\n",
        "N = 50\n",
        "print(acha_fator(N))"
      ],
      "metadata": {
        "colab": {
          "base_uri": "https://localhost:8080/"
        },
        "id": "41T04H_3DzKt",
        "outputId": "ecbdb273-30f6-4009-9b05-613b20f3137c"
      },
      "execution_count": null,
      "outputs": [
        {
          "output_type": "stream",
          "name": "stdout",
          "text": [
            "[(1, 50), (2, 25), (5, 10)]\n"
          ]
        }
      ]
    },
    {
      "cell_type": "markdown",
      "source": [
        "## Custo de fatoração\n",
        "\n",
        "A partir disso podemos perceber que o custo para se fatorar um número está em encontrar todos os primos ou procurar divisores no intervalo de $[1,\\sqrt{N}]$, e para determinar se o número é primo os unicos fatores encontrados tem que ser 1 e N.\n",
        "\n",
        "Se considerarmos um número primo $p$ muito grande, com mais de 100 digitos, isso significa que $p \\geq 10^{100}$, e que $\\sqrt{p} \\geq 10^{50}$, assim a função acha_fator() precisaria executar no mínimo $10^{50}$ divisões para garantir que $p$ é um número primo.\n",
        "\n",
        "Se imaginarmos que temos um supercomputador que executa 10^{10} operações de divisão por segundo, precisariamos de $\\dfrac{10^{50}}{10^{10}} = 10^{40}$ segundos para descobrir se o número é de fato um primo\n",
        "\n",
        "O ano tem, em segundos, $365 dias \\cdot 24 horas\\cdot 60 minutos \\cdot 60 segundos$, que dá ... (***SUSPENSE***)"
      ],
      "metadata": {
        "id": "fC9Mu27eEWUe"
      }
    },
    {
      "cell_type": "code",
      "source": [
        "segundos_por_ano = 365*24*60*60\n",
        "print(f\"O ano tem {segundos_por_ano} segundos por ano\")"
      ],
      "metadata": {
        "colab": {
          "base_uri": "https://localhost:8080/"
        },
        "id": "dhK9do69HHCQ",
        "outputId": "ad16483c-68db-4215-b4f0-f79bf135b508"
      },
      "execution_count": null,
      "outputs": [
        {
          "output_type": "stream",
          "name": "stdout",
          "text": [
            "O ano tem 31536000 segundos por ano\n"
          ]
        }
      ]
    },
    {
      "cell_type": "markdown",
      "source": [
        "Agora, se precisamos de 10^{40} segundos para completar a função e já sabemos quantos segundos tem um ano, precisariamos então de ... (***SUSPENSE***)"
      ],
      "metadata": {
        "id": "ubbIBW7NHXPP"
      }
    },
    {
      "cell_type": "code",
      "source": [
        "print(f\"{int(10e40 // segundos_por_ano)} ANOS, APENAS PARA COMPLETAR A FUNÇÃO E TER CERTEZA QUE p É PRIMO\")"
      ],
      "metadata": {
        "colab": {
          "base_uri": "https://localhost:8080/"
        },
        "id": "E0K8zdZJHVrE",
        "outputId": "23cceeb6-3055-4fa7-80c8-e2be7cfd1de5"
      },
      "execution_count": null,
      "outputs": [
        {
          "output_type": "stream",
          "name": "stdout",
          "text": [
            "3170979198376458831741605254266880 ANOS, APENAS PARA COMPLETAR A FUNÇÃO E TER CERTESA QUE p É PRIMO\n"
          ]
        }
      ]
    },
    {
      "cell_type": "markdown",
      "source": [
        "A partir daqui, você já deve ter entendido que encontrar números primos grandes é uma tarefa dificil, e deve começar a entender porque o algoritmo RSA pode ser eficiente quanto as suas chaves de criptografia."
      ],
      "metadata": {
        "id": "RWosgS12JDD3"
      }
    },
    {
      "cell_type": "markdown",
      "source": [
        "## Resto da divisão\n",
        "\n",
        "Quando dois números inteiros $a$ e $b$ são divididos porém geram um valor não inteiro podemos reescrever o valor como um par $(fator, resto)$, assim podemos dizer que $$a = fator \\cdot b + resto$$\n",
        "\n",
        "\n",
        "\n",
        "> Por exemplo:\n",
        "  Quando fazemos a divisão $$\\dfrac{21}{4} = 5.5, $$ porém podemos afirmar que $$21 = 5*4 + 1,$$ dessa forma, podemos reescrever a operação como $$5\\cdot 4 ≡ 1 (mod 21)$$\n",
        "\n",
        "A operação **mod** (módulo) indica que o resultado é o resto da divisão, no exemplo anterior $(mod 21)$ siginifica que o valor foi dividido por $21$ até que sobrasse apenas o resto $1$.\n",
        "\n",
        "Em python3 a operação $/$ realiza a divisão normal, enquanto a operação $//$ extrai apenas o fator intiero e a operação de módulo é feita usando o símbolo $\\%$. Veja no exemplo abaixo:\n",
        "\n",
        "\n"
      ],
      "metadata": {
        "id": "rU26krd_vyh_"
      }
    },
    {
      "cell_type": "markdown",
      "source": [
        "## Consultando se o número é primo\n",
        "Sabendo que os fatores só crescem até a raíz quadrada do número, podemos verificar se o número é primo testando se ele é divisível por algum número menor ou igual a sua raíz."
      ],
      "metadata": {
        "id": "XvYYlQ7TEyC8"
      }
    },
    {
      "cell_type": "code",
      "source": [
        "#@title Função eh_primo\n",
        "def eh_primo(N):\n",
        "  if N == 2: # Único primo que é par\n",
        "    return True\n",
        "  if N % 2 == 0: # Se N for par não é primo\n",
        "    return False\n",
        "  # Lista com os divisores menores que a raíz de N\n",
        "  divisores = [i for i in range(3,N,2) if i*i <= N and N%i==0]\n",
        "  if len(divisores)!=0:\n",
        "    return False\n",
        "  return True"
      ],
      "metadata": {
        "id": "-XjZgTU8ExTh"
      },
      "execution_count": null,
      "outputs": []
    },
    {
      "cell_type": "code",
      "source": [
        "# Teste a função eh_primo\n",
        "print(f\"2:{eh_primo(2)}\")\n",
        "print(f\"3:{eh_primo(3)}\")\n",
        "print(f\"4:{eh_primo(4)}\")\n",
        "print(f\"5:{eh_primo(5)}\")\n",
        "print(f\"6:{eh_primo(6)}\")\n",
        "print(f\"7:{eh_primo(7)}\")\n",
        "print(f\"8:{eh_primo(8)}\")\n",
        "print(f\"9:{eh_primo(9)}\")\n",
        "print(f\"10:{eh_primo(10)}\")\n",
        "print(f\"11:{eh_primo(11)}\")\n",
        "print(f\"12:{eh_primo(12)}\")\n",
        "print(f\"13:{eh_primo(13)}\")\n",
        "print(f\"14:{eh_primo(14)}\")\n",
        "print(f\"15:{eh_primo(15)}\")\n",
        "print(f\"16:{eh_primo(16)}\")\n",
        "print(f\"17:{eh_primo(17)}\")\n",
        "print(f\"18:{eh_primo(18)}\")\n",
        "print(f\"19:{eh_primo(19)}\")\n",
        "print(f\"20:{eh_primo(20)}\")\n",
        "print(f\"21:{eh_primo(21)}\")\n",
        "print(f\"22:{eh_primo(22)}\")\n",
        "print(f\"23:{eh_primo(23)}\")"
      ],
      "metadata": {
        "colab": {
          "base_uri": "https://localhost:8080/"
        },
        "id": "46VfIjfSTW-Z",
        "outputId": "48a40244-bfa9-4b3d-84a9-b31ebff475cc"
      },
      "execution_count": null,
      "outputs": [
        {
          "output_type": "stream",
          "name": "stdout",
          "text": [
            "2:True\n",
            "3:True\n",
            "4:False\n",
            "5:True\n",
            "6:False\n",
            "7:True\n",
            "8:False\n",
            "9:False\n",
            "10:False\n",
            "11:True\n",
            "12:False\n",
            "13:True\n",
            "14:False\n",
            "15:False\n",
            "16:False\n",
            "17:True\n",
            "18:False\n",
            "19:True\n",
            "20:False\n",
            "21:False\n",
            "22:False\n",
            "23:True\n"
          ]
        }
      ]
    },
    {
      "cell_type": "code",
      "source": [
        "print(f\"21 = {21/4} * 4\")\n",
        "print(f\"21 = {21//4} * 4 + {21%4}\")"
      ],
      "metadata": {
        "colab": {
          "base_uri": "https://localhost:8080/"
        },
        "id": "eq_9CslxsxaI",
        "outputId": "4a298a9b-ffba-4829-9f1f-22e0bbacf75f"
      },
      "execution_count": null,
      "outputs": [
        {
          "output_type": "stream",
          "name": "stdout",
          "text": [
            "21/4 = 5.25\n",
            "21 = 5 * 4 + 1\n"
          ]
        }
      ]
    },
    {
      "cell_type": "markdown",
      "source": [
        "# INVERSOS MODULARES\n",
        "\n",
        "Dois números são inversos modulares, ou inversos módulo $n$, quando $$a\\cdot a' \\equiv 1\\ (mod\\ n)$$\n",
        "\n",
        "Essa equivalencia indica que\n",
        "$a\\cdot a' = x\\cdot n + 1$, onde $x$ é um fator qualquer\n",
        "\n",
        "Como no exemplo anterior, podemos dizer que $5$ e $4$ são inversos módulo $21$, pois $$5\\cdot4\\equiv 1(mod 21)$$"
      ],
      "metadata": {
        "id": "it5IO7CSL0YH"
      }
    },
    {
      "cell_type": "markdown",
      "source": [
        "# CRIPTOGRAFIA RSA\n",
        "\n",
        "Agora a melhor parte, o algoritmo de criptografia RSA, recomendo que entenda todo o conteúdo anterior antes de continuar.\n",
        "\n",
        "Vamos começar escrevendo uma mensagem que iremos criptografar."
      ],
      "metadata": {
        "id": "jWX6-JyO0ehD"
      }
    },
    {
      "cell_type": "code",
      "source": [
        "#@title Mensagem não criptografada { run: \"auto\", vertical-output: true, display-mode: \"form\" }\n",
        "\n",
        "mensagem_original = \"Ola Mundo! Vamos criptografar essa mensagem com o algoritmo RSA.\" #@param {type:\"string\"}\n",
        "print(f\"Texto '{mensagem_original}' foi gravado na variável 'mensagem_original'!\")"
      ],
      "metadata": {
        "colab": {
          "base_uri": "https://localhost:8080/"
        },
        "id": "WUKq22eu1DZo",
        "outputId": "ee93b469-aa30-446f-8d9c-c90f8f3d288c"
      },
      "execution_count": null,
      "outputs": [
        {
          "output_type": "stream",
          "name": "stdout",
          "text": [
            "Texto 'Ola Mundo! Vamos criptografar essa mensagem com o algoritmo RSA.' foi gravado na variável 'mensagem_original'!\n"
          ]
        }
      ]
    },
    {
      "cell_type": "markdown",
      "source": [
        "## Pré Codificação\n",
        "### Traduzindo a mensagem original para números inteiros\n",
        "\n",
        "O algoritmo do RSA trabalha com números inteiros, então a primeira coisa a se fazer é criar um método de transcrever a mensagem em números.\n",
        "\n",
        "No python3 a função $ord(c)$ recebe um caractere $c$ e retorna o valor inteiro referente ao padrão de númeração unicode do caractere."
      ],
      "metadata": {
        "id": "k3iuY-a8eHHG"
      }
    },
    {
      "cell_type": "code",
      "source": [
        "#@title Mensagem com números inteiros\n",
        "\n",
        "mensagem_int = [ord(c) for c in mensagem_original]\n",
        "print(f\"Os caracteres da mensagem em valor unicode ficam:\\n{mensagem_int}\\n\")"
      ],
      "metadata": {
        "colab": {
          "base_uri": "https://localhost:8080/"
        },
        "cellView": "code",
        "id": "9lCJwQ7PgPht",
        "outputId": "32dabed9-7218-4716-d665-f3b065decf62"
      },
      "execution_count": null,
      "outputs": [
        {
          "output_type": "stream",
          "name": "stdout",
          "text": [
            "Os caracteres da mensagem em valor unicode ficam:\n",
            "[79, 108, 97, 32, 77, 117, 110, 100, 111, 33, 32, 86, 97, 109, 111, 115, 32, 99, 114, 105, 112, 116, 111, 103, 114, 97, 102, 97, 114, 32, 101, 115, 115, 97, 32, 109, 101, 110, 115, 97, 103, 101, 109, 32, 99, 111, 109, 32, 111, 32, 97, 108, 103, 111, 114, 105, 116, 109, 111, 32, 82, 83, 65, 46]\n",
            "\n"
          ]
        }
      ]
    },
    {
      "cell_type": "code",
      "source": [
        "# Mensagem que seria enviada\n",
        "# agora sabemos que a cada 3 digitos eu tenho um caractere+100\n",
        "mensagem_int_nao_codificada = ''.join([f'{c}' for c in mensagem_int])\n",
        "print(mensagem_int_nao_codificada)"
      ],
      "metadata": {
        "colab": {
          "base_uri": "https://localhost:8080/"
        },
        "id": "I1Y5IWrSqFpQ",
        "outputId": "3cad0dc0-9a16-4c8e-966a-b9aa9bbc3266"
      },
      "execution_count": null,
      "outputs": [
        {
          "output_type": "stream",
          "name": "stdout",
          "text": [
            "7910897327711711010011133328697109111115329911410511211611110311497102971143210111511597321091011101159710310110932991111093211132971081031111141051161091113282836546\n"
          ]
        }
      ]
    },
    {
      "cell_type": "markdown",
      "source": [
        "## Escolhendo *p* e *q*\n",
        "O algoritmo RSA nescessita definir dois parâmetros principais, são esses dois números primos distintos *p* e *q*, esses números precisam ser grandes o suficiente pois nossa chave pública depende deles, então é preciso dificultar que outras pessoas consigam descobrir esses números a partir de nossa chave pública.\n",
        "\n",
        "Ao executar o código abaixo serão gerados os números $p$ e $q$, ao continuar a leitura e demais códigos não rode novamente esse código para não modificar as chaves $p$ e $q$."
      ],
      "metadata": {
        "id": "vV59Q_ZCm-7z"
      }
    },
    {
      "cell_type": "code",
      "source": [
        "import rsa\n",
        "\n",
        "# Gerando as chaves\n",
        "(public_key, private_key) = rsa.newkeys(512)\n",
        "\n",
        "# Obtendo os números p e q\n",
        "p = private_key.p\n",
        "q = private_key.q\n",
        "\n",
        "\n",
        "# Imprimindo os resultados\n",
        "print(\"Número primo p:\", p)\n",
        "print(\"Número primo q:\", q)"
      ],
      "metadata": {
        "colab": {
          "base_uri": "https://localhost:8080/"
        },
        "id": "-ap4HSKC990Q",
        "outputId": "3bcfa3f3-9e16-4dae-c08b-8ee3a8295b89"
      },
      "execution_count": null,
      "outputs": [
        {
          "output_type": "stream",
          "name": "stdout",
          "text": [
            "Número primo p: 6724500940624420382855419938290341339548369377121887679260540981837305366200731159\n",
            "Número primo q: 1119499888986656254324942101128591795359919052760146067246001184449881519\n"
          ]
        }
      ]
    },
    {
      "cell_type": "markdown",
      "source": [
        "## Computando a chave publica\n",
        "\n",
        "Em posse de *p* e *q* calculamos $n=p\\cdot q$, essa será a principal chave de códificação do algoritmo, ela também é chamada de chave pública do sistema pois pode ser divulgada e será usada para descriptografar as mensagens."
      ],
      "metadata": {
        "id": "9AnDn-Ih7mkn"
      }
    },
    {
      "cell_type": "code",
      "source": [
        "n = p*q\n",
        "print(f\"A chave pública n: {n}\")\n",
        "\n",
        "with open(\"RSA_publickey.txt\", \"w\") as file:\n",
        "  file.write(str(n))"
      ],
      "metadata": {
        "id": "o7cn37CQm-dL",
        "colab": {
          "base_uri": "https://localhost:8080/"
        },
        "outputId": "f8cb023c-742d-41b4-bfce-8e7be8225848"
      },
      "execution_count": null,
      "outputs": [
        {
          "output_type": "stream",
          "name": "stdout",
          "text": [
            "A chave pública n: 7528078056519704178952600241666069560983252019416291355398184983216998732541319595262569517563746438646041341087450516755238380163853448792928448721550521\n"
          ]
        }
      ]
    },
    {
      "cell_type": "markdown",
      "source": [
        "Outro valor que precisamos como chave pública é um valor de expoente, este será usado para codificação sempre, por enquanto usaremos o valor armazenado na váriavel $public_key$ e explicaremos mais a frente o motivo desse valor."
      ],
      "metadata": {
        "id": "FhK4hY8L1QRd"
      }
    },
    {
      "cell_type": "code",
      "source": [
        "# Obtendo o valor de E fornecido pelo módulo python RSA\n",
        "e = public_key.e\n",
        "print(\"e:\", e)"
      ],
      "metadata": {
        "colab": {
          "base_uri": "https://localhost:8080/"
        },
        "id": "5eh2gUuqvVjq",
        "outputId": "ba8553f7-e7f8-4b5a-c0e0-01c7be6f96b5"
      },
      "execution_count": null,
      "outputs": [
        {
          "output_type": "stream",
          "name": "stdout",
          "text": [
            "e: 65537\n"
          ]
        }
      ]
    },
    {
      "cell_type": "markdown",
      "source": [
        "Dessa forma, nossa chave pública é o par ($n$,$e$)."
      ],
      "metadata": {
        "id": "c3qNCIXH3eV0"
      }
    },
    {
      "cell_type": "code",
      "source": [
        "print(public_key.n)\n",
        "print(public_key.e)"
      ],
      "metadata": {
        "colab": {
          "base_uri": "https://localhost:8080/"
        },
        "id": "J8Ojgk5J3nMX",
        "outputId": "a17a41db-28c2-41bc-d245-b11d34b8b9a7"
      },
      "execution_count": null,
      "outputs": [
        {
          "output_type": "stream",
          "name": "stdout",
          "text": [
            "7528078056519704178952600241666069560983252019416291355398184983216998732541319595262569517563746438646041341087450516755238380163853448792928448721550521\n",
            "65537\n"
          ]
        }
      ]
    },
    {
      "cell_type": "markdown",
      "source": [
        "## Codificando a mensagem\n",
        "Tendo em mãos a chave pública $n$ e o valor $e$ também público, podemos enviar uma mensagem ao dono dessa chave da seguinte forma:\n",
        "\n",
        "- Seja $b$ um bloco que será codificado correspondente a um caractere, geramos o bloco codificado $C(b)$ com a seguinte equação $$C(b) = b^e (mod\\text{ }n)$$"
      ],
      "metadata": {
        "id": "5kHLKUhN28Wm"
      }
    },
    {
      "cell_type": "code",
      "source": [
        "print(f\"Nossa mensagem separada em blocos b é:\\n{mensagem_int}\")\n",
        "mensagem_int_codificada = [(pow(b, e, n)) for b in mensagem_int]\n",
        "print(f\"Nossa mensagem codificada é:\\n{mensagem_int_codificada}\")\n"
      ],
      "metadata": {
        "colab": {
          "base_uri": "https://localhost:8080/"
        },
        "id": "diC6c0b_4qZ5",
        "outputId": "5a9e78c9-2a23-4867-964b-a88735fa3cd6"
      },
      "execution_count": null,
      "outputs": [
        {
          "output_type": "stream",
          "name": "stdout",
          "text": [
            "Nossa mensagem separada em blocos b é:\n",
            "[79, 108, 97, 32, 77, 117, 110, 100, 111, 33, 32, 86, 97, 109, 111, 115, 32, 99, 114, 105, 112, 116, 111, 103, 114, 97, 102, 97, 114, 32, 101, 115, 115, 97, 32, 109, 101, 110, 115, 97, 103, 101, 109, 32, 99, 111, 109, 32, 111, 32, 97, 108, 103, 111, 114, 105, 116, 109, 111, 32, 82, 83, 65, 46]\n",
            "Nossa mensagem codificada é:\n",
            "[1583730812496020862209288859738622813577211650378837901306039534476922195290505894751817926631016173181684707436918779768481955816291114315346470093391770, 4946187728024567467713136412470841543547588146915999307035143840229714456752942030309345539868823951934835898347838101193849407064792171284331279993076428, 885847989712196647364624894159874766156854017645096730381024021360382106875251142376787307899724271100904190774734267611711878745666176637564215830855917, 6118915509124728070209070172106276882697742505978750546492498302883520241791369112903466220201280115338189340064501416620863358900986974657202191012231402, 1407752862061764446860174827830128133228725980376136081487528976176083989057273729157429253087700839775072140271896985741455172648764384208195171028006760, 1002265295866963911079746128802738077842681952430391650224579372590271491333223616909208369041004363500803735720015123933959257481651053370573970463439149, 4018766491870796217040148480364421915772952975171117978700478972864293606613302867716661311812141993160750164875303269027934158283030149396232319986617808, 1533056728588340996378077563086734152083253973284609659297634374114132911699928336076153784135412360386981290774698150048582354745392036523948877544555659, 3016910086779536722847612241229082736162986230360063666986550578597402142811598475208359485881140051982272390784172573329558412677815624756404101277084466, 720995814162044833015407776509376100293683335274246349376436543376248155101192346552255710614363139153996679255031662651282318693215488096682175840763980, 6118915509124728070209070172106276882697742505978750546492498302883520241791369112903466220201280115338189340064501416620863358900986974657202191012231402, 6606370816198881229738775256002230351758319802449015891500586461262280114720612189235056259279941620478266047022860123289072307740408522593160129580471241, 885847989712196647364624894159874766156854017645096730381024021360382106875251142376787307899724271100904190774734267611711878745666176637564215830855917, 7449730739809907449212755415088812803822542127583011307928343891925029558286171515393833393138651816129775412696036880349281028355506496929404476917645020, 3016910086779536722847612241229082736162986230360063666986550578597402142811598475208359485881140051982272390784172573329558412677815624756404101277084466, 4462945118868905487196200921879901520140407631738467677801346990612293529921708465741497777690086388058768869031930098776570996329855918582210093927319499, 6118915509124728070209070172106276882697742505978750546492498302883520241791369112903466220201280115338189340064501416620863358900986974657202191012231402, 704104334286923787599760234272034870674166275731267880713174051358232701639389350716091594720616514509844642072352508027679766285723401307143481037088706, 4070645849133085036081156980967660939826325030320500662715734223222501607170051604683106476915404671996465681880281723430663414364910606080914735360970270, 4684223403659847907094233286099830725417201871266053396740039019795872164985484671786465624529020735011350108358250779578865874926755393781155967847336457, 3921730939127867618401259061719612688232474708544251690435555963482780793646719355053216116279728539439809868414442759475748341886661801728722873254254105, 1235010027912278943084942936301356843126317232727455213420087893118195309493259373476291616157444336703378248505647199637572063890598352268076321699947148, 3016910086779536722847612241229082736162986230360063666986550578597402142811598475208359485881140051982272390784172573329558412677815624756404101277084466, 878929730027963499612913105012210015264540350373231611042459440357472297627730713531278921430654444531269084086440673757471294529555675284973794816038286, 4070645849133085036081156980967660939826325030320500662715734223222501607170051604683106476915404671996465681880281723430663414364910606080914735360970270, 885847989712196647364624894159874766156854017645096730381024021360382106875251142376787307899724271100904190774734267611711878745666176637564215830855917, 393235346525214999394664595341142542383051976967012936391055907983841000128238226110824606402230396243885516667334175852549719357134264886560696322454090, 885847989712196647364624894159874766156854017645096730381024021360382106875251142376787307899724271100904190774734267611711878745666176637564215830855917, 4070645849133085036081156980967660939826325030320500662715734223222501607170051604683106476915404671996465681880281723430663414364910606080914735360970270, 6118915509124728070209070172106276882697742505978750546492498302883520241791369112903466220201280115338189340064501416620863358900986974657202191012231402, 6634555859078630974920990420501226685154603296326013209145872295205457397261297236983864718608343744315139131385613285562361307107012377262231358193547884, 4462945118868905487196200921879901520140407631738467677801346990612293529921708465741497777690086388058768869031930098776570996329855918582210093927319499, 4462945118868905487196200921879901520140407631738467677801346990612293529921708465741497777690086388058768869031930098776570996329855918582210093927319499, 885847989712196647364624894159874766156854017645096730381024021360382106875251142376787307899724271100904190774734267611711878745666176637564215830855917, 6118915509124728070209070172106276882697742505978750546492498302883520241791369112903466220201280115338189340064501416620863358900986974657202191012231402, 7449730739809907449212755415088812803822542127583011307928343891925029558286171515393833393138651816129775412696036880349281028355506496929404476917645020, 6634555859078630974920990420501226685154603296326013209145872295205457397261297236983864718608343744315139131385613285562361307107012377262231358193547884, 4018766491870796217040148480364421915772952975171117978700478972864293606613302867716661311812141993160750164875303269027934158283030149396232319986617808, 4462945118868905487196200921879901520140407631738467677801346990612293529921708465741497777690086388058768869031930098776570996329855918582210093927319499, 885847989712196647364624894159874766156854017645096730381024021360382106875251142376787307899724271100904190774734267611711878745666176637564215830855917, 878929730027963499612913105012210015264540350373231611042459440357472297627730713531278921430654444531269084086440673757471294529555675284973794816038286, 6634555859078630974920990420501226685154603296326013209145872295205457397261297236983864718608343744315139131385613285562361307107012377262231358193547884, 7449730739809907449212755415088812803822542127583011307928343891925029558286171515393833393138651816129775412696036880349281028355506496929404476917645020, 6118915509124728070209070172106276882697742505978750546492498302883520241791369112903466220201280115338189340064501416620863358900986974657202191012231402, 704104334286923787599760234272034870674166275731267880713174051358232701639389350716091594720616514509844642072352508027679766285723401307143481037088706, 3016910086779536722847612241229082736162986230360063666986550578597402142811598475208359485881140051982272390784172573329558412677815624756404101277084466, 7449730739809907449212755415088812803822542127583011307928343891925029558286171515393833393138651816129775412696036880349281028355506496929404476917645020, 6118915509124728070209070172106276882697742505978750546492498302883520241791369112903466220201280115338189340064501416620863358900986974657202191012231402, 3016910086779536722847612241229082736162986230360063666986550578597402142811598475208359485881140051982272390784172573329558412677815624756404101277084466, 6118915509124728070209070172106276882697742505978750546492498302883520241791369112903466220201280115338189340064501416620863358900986974657202191012231402, 885847989712196647364624894159874766156854017645096730381024021360382106875251142376787307899724271100904190774734267611711878745666176637564215830855917, 4946187728024567467713136412470841543547588146915999307035143840229714456752942030309345539868823951934835898347838101193849407064792171284331279993076428, 878929730027963499612913105012210015264540350373231611042459440357472297627730713531278921430654444531269084086440673757471294529555675284973794816038286, 3016910086779536722847612241229082736162986230360063666986550578597402142811598475208359485881140051982272390784172573329558412677815624756404101277084466, 4070645849133085036081156980967660939826325030320500662715734223222501607170051604683106476915404671996465681880281723430663414364910606080914735360970270, 4684223403659847907094233286099830725417201871266053396740039019795872164985484671786465624529020735011350108358250779578865874926755393781155967847336457, 1235010027912278943084942936301356843126317232727455213420087893118195309493259373476291616157444336703378248505647199637572063890598352268076321699947148, 7449730739809907449212755415088812803822542127583011307928343891925029558286171515393833393138651816129775412696036880349281028355506496929404476917645020, 3016910086779536722847612241229082736162986230360063666986550578597402142811598475208359485881140051982272390784172573329558412677815624756404101277084466, 6118915509124728070209070172106276882697742505978750546492498302883520241791369112903466220201280115338189340064501416620863358900986974657202191012231402, 4521488110612022224436633791130770386951352933958291179839880310926609911407127178130231838629572821435076988593961939659167117406873011046350816356608407, 1974522105264183787934512369616422950255502865567814959055173740548002488016920145410763179805986644967583402165228562242343131741033215407185170328136450, 4296657555603509276165414740279921967513313996597505894017757940060616004162163669543732480326574999671059478026461039078267221133618570171670741889856008, 7047138557658466089487317082663352501771365848943768979900456549591112283223635433937073494831112971123521501659886499250532211375743452361327620488060986]\n"
          ]
        }
      ]
    },
    {
      "cell_type": "markdown",
      "source": [
        "Como pode ver, a mensagem codificada é uma sequência de números assim como a mensagem original porém são números muito grandes menores que $n$."
      ],
      "metadata": {
        "id": "inU_nhu677t-"
      }
    },
    {
      "cell_type": "markdown",
      "source": [
        "## Computando a chave privada\n",
        "\n",
        "A chave privada que realmente faz a codificação é um valor $d$ que é inverso de $e$ módulo $(p-1)\\cdot(q-1)$, ou seja $$ed \\equiv 1 (mod\\text{ }(p-1)(q-1))$$\n"
      ],
      "metadata": {
        "id": "5x9NK7fY8J3f"
      }
    },
    {
      "cell_type": "code",
      "source": [
        "# Obtendo os valore de D fornecido pelo módulo python RSA\n",
        "d = private_key.d\n",
        "print(\"d:\", d)"
      ],
      "metadata": {
        "colab": {
          "base_uri": "https://localhost:8080/"
        },
        "id": "OYEW6FGD2fhn",
        "outputId": "112cb476-ec0b-4ba1-ebdc-d77d8cba2ab7"
      },
      "execution_count": null,
      "outputs": [
        {
          "output_type": "stream",
          "name": "stdout",
          "text": [
            "d: 6245581276059162848742096530812633080088825835782879801878482596204810331875308052384393499677718763708811336514016916044906321205429657827052837968064337\n"
          ]
        }
      ]
    },
    {
      "cell_type": "markdown",
      "source": [
        "E como você pode ver, o valor $d$ satisfaz a condição"
      ],
      "metadata": {
        "id": "lA4_VOBV9U8n"
      }
    },
    {
      "cell_type": "code",
      "source": [
        "phi = (p-1)*(q-1)\n",
        "print((e*d) % phi)"
      ],
      "metadata": {
        "colab": {
          "base_uri": "https://localhost:8080/"
        },
        "id": "24q05-lB9ZvH",
        "outputId": "421c5b17-0fb5-4e07-a55e-97685390c5c1"
      },
      "execution_count": null,
      "outputs": [
        {
          "output_type": "stream",
          "name": "stdout",
          "text": [
            "1\n"
          ]
        }
      ]
    },
    {
      "cell_type": "markdown",
      "source": [
        "A verdade é que qualquer par $e$ e $d$ que satisfaça a condição apresentada seria válido, por conveniencia usaremos os valores que o módulo python RSA fornece.\n",
        "\n",
        "A partir do momento que calculamos $e$, $d$ e $n$ os valores $p$ e $q$ já não são nescessários e podem até mesmo serem apagados para que ninguem consiga cálcular o valor de $d$ e quebrar a criptografia.\n",
        "\n",
        "Nossa chave privada principal passa a ser então o valor $d$, que não deve ser compartilhado com mais ninguem."
      ],
      "metadata": {
        "id": "bbLkudo99pHE"
      }
    },
    {
      "cell_type": "code",
      "source": [
        "del(p)\n",
        "del(q)\n",
        "del(public_key)\n",
        "del(private_key)\n",
        "\n",
        "public_key = (n, e)\n",
        "private_key = (n, d)"
      ],
      "metadata": {
        "id": "KFg3muoM-faZ"
      },
      "execution_count": null,
      "outputs": []
    },
    {
      "cell_type": "markdown",
      "source": [
        "## Decodificando a mensagem\n",
        "Tendo em mãos a chave pública $n$ e a chave privada $d$, podemos desriptografar uma mensagem que foi codificada para nós usando a nossa chave pública.\n",
        "\n",
        "- Seja $a$ um bloco que foi codificado correspondente a um caractere, geramos o bloco descodificado $D(a)$ com a seguinte equação\n",
        "$$D(a) = a^d (mod\\text{ }n)$$"
      ],
      "metadata": {
        "id": "JNgM7mVP_CRJ"
      }
    },
    {
      "cell_type": "code",
      "source": [
        "print(f\"Nossa mensagem codificada é:\\n{mensagem_int_codificada}\")\n",
        "mensagem_int_decodificada = [(pow(a, d, n)) for a in mensagem_int_codificada]\n",
        "print(f\"Nossa mensagem decodificada é:\\n{mensagem_int_decodificada}\")"
      ],
      "metadata": {
        "colab": {
          "base_uri": "https://localhost:8080/"
        },
        "id": "DROzNisE9USH",
        "outputId": "56b04a3e-93da-431b-9865-0e96703d6b6e"
      },
      "execution_count": null,
      "outputs": [
        {
          "output_type": "stream",
          "name": "stdout",
          "text": [
            "Nossa mensagem codificada é:\n",
            "[1583730812496020862209288859738622813577211650378837901306039534476922195290505894751817926631016173181684707436918779768481955816291114315346470093391770, 4946187728024567467713136412470841543547588146915999307035143840229714456752942030309345539868823951934835898347838101193849407064792171284331279993076428, 885847989712196647364624894159874766156854017645096730381024021360382106875251142376787307899724271100904190774734267611711878745666176637564215830855917, 6118915509124728070209070172106276882697742505978750546492498302883520241791369112903466220201280115338189340064501416620863358900986974657202191012231402, 1407752862061764446860174827830128133228725980376136081487528976176083989057273729157429253087700839775072140271896985741455172648764384208195171028006760, 1002265295866963911079746128802738077842681952430391650224579372590271491333223616909208369041004363500803735720015123933959257481651053370573970463439149, 4018766491870796217040148480364421915772952975171117978700478972864293606613302867716661311812141993160750164875303269027934158283030149396232319986617808, 1533056728588340996378077563086734152083253973284609659297634374114132911699928336076153784135412360386981290774698150048582354745392036523948877544555659, 3016910086779536722847612241229082736162986230360063666986550578597402142811598475208359485881140051982272390784172573329558412677815624756404101277084466, 720995814162044833015407776509376100293683335274246349376436543376248155101192346552255710614363139153996679255031662651282318693215488096682175840763980, 6118915509124728070209070172106276882697742505978750546492498302883520241791369112903466220201280115338189340064501416620863358900986974657202191012231402, 6606370816198881229738775256002230351758319802449015891500586461262280114720612189235056259279941620478266047022860123289072307740408522593160129580471241, 885847989712196647364624894159874766156854017645096730381024021360382106875251142376787307899724271100904190774734267611711878745666176637564215830855917, 7449730739809907449212755415088812803822542127583011307928343891925029558286171515393833393138651816129775412696036880349281028355506496929404476917645020, 3016910086779536722847612241229082736162986230360063666986550578597402142811598475208359485881140051982272390784172573329558412677815624756404101277084466, 4462945118868905487196200921879901520140407631738467677801346990612293529921708465741497777690086388058768869031930098776570996329855918582210093927319499, 6118915509124728070209070172106276882697742505978750546492498302883520241791369112903466220201280115338189340064501416620863358900986974657202191012231402, 704104334286923787599760234272034870674166275731267880713174051358232701639389350716091594720616514509844642072352508027679766285723401307143481037088706, 4070645849133085036081156980967660939826325030320500662715734223222501607170051604683106476915404671996465681880281723430663414364910606080914735360970270, 4684223403659847907094233286099830725417201871266053396740039019795872164985484671786465624529020735011350108358250779578865874926755393781155967847336457, 3921730939127867618401259061719612688232474708544251690435555963482780793646719355053216116279728539439809868414442759475748341886661801728722873254254105, 1235010027912278943084942936301356843126317232727455213420087893118195309493259373476291616157444336703378248505647199637572063890598352268076321699947148, 3016910086779536722847612241229082736162986230360063666986550578597402142811598475208359485881140051982272390784172573329558412677815624756404101277084466, 878929730027963499612913105012210015264540350373231611042459440357472297627730713531278921430654444531269084086440673757471294529555675284973794816038286, 4070645849133085036081156980967660939826325030320500662715734223222501607170051604683106476915404671996465681880281723430663414364910606080914735360970270, 885847989712196647364624894159874766156854017645096730381024021360382106875251142376787307899724271100904190774734267611711878745666176637564215830855917, 393235346525214999394664595341142542383051976967012936391055907983841000128238226110824606402230396243885516667334175852549719357134264886560696322454090, 885847989712196647364624894159874766156854017645096730381024021360382106875251142376787307899724271100904190774734267611711878745666176637564215830855917, 4070645849133085036081156980967660939826325030320500662715734223222501607170051604683106476915404671996465681880281723430663414364910606080914735360970270, 6118915509124728070209070172106276882697742505978750546492498302883520241791369112903466220201280115338189340064501416620863358900986974657202191012231402, 6634555859078630974920990420501226685154603296326013209145872295205457397261297236983864718608343744315139131385613285562361307107012377262231358193547884, 4462945118868905487196200921879901520140407631738467677801346990612293529921708465741497777690086388058768869031930098776570996329855918582210093927319499, 4462945118868905487196200921879901520140407631738467677801346990612293529921708465741497777690086388058768869031930098776570996329855918582210093927319499, 885847989712196647364624894159874766156854017645096730381024021360382106875251142376787307899724271100904190774734267611711878745666176637564215830855917, 6118915509124728070209070172106276882697742505978750546492498302883520241791369112903466220201280115338189340064501416620863358900986974657202191012231402, 7449730739809907449212755415088812803822542127583011307928343891925029558286171515393833393138651816129775412696036880349281028355506496929404476917645020, 6634555859078630974920990420501226685154603296326013209145872295205457397261297236983864718608343744315139131385613285562361307107012377262231358193547884, 4018766491870796217040148480364421915772952975171117978700478972864293606613302867716661311812141993160750164875303269027934158283030149396232319986617808, 4462945118868905487196200921879901520140407631738467677801346990612293529921708465741497777690086388058768869031930098776570996329855918582210093927319499, 885847989712196647364624894159874766156854017645096730381024021360382106875251142376787307899724271100904190774734267611711878745666176637564215830855917, 878929730027963499612913105012210015264540350373231611042459440357472297627730713531278921430654444531269084086440673757471294529555675284973794816038286, 6634555859078630974920990420501226685154603296326013209145872295205457397261297236983864718608343744315139131385613285562361307107012377262231358193547884, 7449730739809907449212755415088812803822542127583011307928343891925029558286171515393833393138651816129775412696036880349281028355506496929404476917645020, 6118915509124728070209070172106276882697742505978750546492498302883520241791369112903466220201280115338189340064501416620863358900986974657202191012231402, 704104334286923787599760234272034870674166275731267880713174051358232701639389350716091594720616514509844642072352508027679766285723401307143481037088706, 3016910086779536722847612241229082736162986230360063666986550578597402142811598475208359485881140051982272390784172573329558412677815624756404101277084466, 7449730739809907449212755415088812803822542127583011307928343891925029558286171515393833393138651816129775412696036880349281028355506496929404476917645020, 6118915509124728070209070172106276882697742505978750546492498302883520241791369112903466220201280115338189340064501416620863358900986974657202191012231402, 3016910086779536722847612241229082736162986230360063666986550578597402142811598475208359485881140051982272390784172573329558412677815624756404101277084466, 6118915509124728070209070172106276882697742505978750546492498302883520241791369112903466220201280115338189340064501416620863358900986974657202191012231402, 885847989712196647364624894159874766156854017645096730381024021360382106875251142376787307899724271100904190774734267611711878745666176637564215830855917, 4946187728024567467713136412470841543547588146915999307035143840229714456752942030309345539868823951934835898347838101193849407064792171284331279993076428, 878929730027963499612913105012210015264540350373231611042459440357472297627730713531278921430654444531269084086440673757471294529555675284973794816038286, 3016910086779536722847612241229082736162986230360063666986550578597402142811598475208359485881140051982272390784172573329558412677815624756404101277084466, 4070645849133085036081156980967660939826325030320500662715734223222501607170051604683106476915404671996465681880281723430663414364910606080914735360970270, 4684223403659847907094233286099830725417201871266053396740039019795872164985484671786465624529020735011350108358250779578865874926755393781155967847336457, 1235010027912278943084942936301356843126317232727455213420087893118195309493259373476291616157444336703378248505647199637572063890598352268076321699947148, 7449730739809907449212755415088812803822542127583011307928343891925029558286171515393833393138651816129775412696036880349281028355506496929404476917645020, 3016910086779536722847612241229082736162986230360063666986550578597402142811598475208359485881140051982272390784172573329558412677815624756404101277084466, 6118915509124728070209070172106276882697742505978750546492498302883520241791369112903466220201280115338189340064501416620863358900986974657202191012231402, 4521488110612022224436633791130770386951352933958291179839880310926609911407127178130231838629572821435076988593961939659167117406873011046350816356608407, 1974522105264183787934512369616422950255502865567814959055173740548002488016920145410763179805986644967583402165228562242343131741033215407185170328136450, 4296657555603509276165414740279921967513313996597505894017757940060616004162163669543732480326574999671059478026461039078267221133618570171670741889856008, 7047138557658466089487317082663352501771365848943768979900456549591112283223635433937073494831112971123521501659886499250532211375743452361327620488060986]\n",
            "Nossa mensagem decodificada é:\n",
            "[79, 108, 97, 32, 77, 117, 110, 100, 111, 33, 32, 86, 97, 109, 111, 115, 32, 99, 114, 105, 112, 116, 111, 103, 114, 97, 102, 97, 114, 32, 101, 115, 115, 97, 32, 109, 101, 110, 115, 97, 103, 101, 109, 32, 99, 111, 109, 32, 111, 32, 97, 108, 103, 111, 114, 105, 116, 109, 111, 32, 82, 83, 65, 46]\n"
          ]
        }
      ]
    },
    {
      "cell_type": "markdown",
      "source": [
        "Com a lista descodificada podemos vizualizar a mensagem que foi recebida apenas transformando os valores em caracteres novamente\n"
      ],
      "metadata": {
        "id": "BiG9orKnAgHb"
      }
    },
    {
      "cell_type": "code",
      "source": [
        "mensagem_recebida = ''.join([chr(i) for i in mensagem_int_decodificada])\n",
        "print(f\"A mensagem recebida foi:\\n{mensagem_recebida}\")"
      ],
      "metadata": {
        "colab": {
          "base_uri": "https://localhost:8080/"
        },
        "id": "i4WQQAWpApOt",
        "outputId": "6eefa437-84c9-4061-e3ff-fd548e7010e0"
      },
      "execution_count": null,
      "outputs": [
        {
          "output_type": "stream",
          "name": "stdout",
          "text": [
            "A mensagem recebida foi:\n",
            "Ola Mundo! Vamos criptografar essa mensagem com o algoritmo RSA.\n"
          ]
        }
      ]
    },
    {
      "cell_type": "markdown",
      "source": [
        "# Porque o RSA funciona?\n",
        "\n",
        "Como vimos, a criptografia se baseia em codificar um valor de bloco $b$ e depois decodificá-lo para gerar o mesmo valor inicial, sendo assim, é preciso provar que\n",
        "$$D(C(b))\\equiv b (mod\\text{ }n)$$\n",
        "\n",
        "Como visto anteriormente, $$C(b) = b^e (mod\\text{ }n),$$ logo,\n",
        "$$D(C(b))\\equiv D(b^e) (mod\\text{ }n)$$\n",
        "\n",
        "Também foi mostrado anteriormente que\n",
        "$$D(a) = a^d (mod\\text{ }n),$$ logo,\n",
        "$$D(C(b))\\equiv D(b^e) (mod\\text{ }n) \\equiv b^{ed}(mod\\text{ }n)$$\n",
        "\n",
        "Porém, como $b$ é um número sempre menor que $n$ para forma como montamos nossa mensagem, e todas as condições para $e$ e $d$ serem inversos foram satisfeitas, isso nos garante que $$ b^{ed} (mod\\text{ }n) = b$$"
      ],
      "metadata": {
        "id": "nEoG2qIuCXUm"
      }
    }
  ]
}